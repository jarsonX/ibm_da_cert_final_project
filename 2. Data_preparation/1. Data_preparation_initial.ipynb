{
 "cells": [
  {
   "cell_type": "markdown",
   "metadata": {},
   "source": [
    "### **IT trends analysis | Main analysis | Data preparation**\n",
    "**Data source:** survey_data.csv\n",
    "\n",
    "**Scenario:** Prepare data for further analysis and visualization\n",
    "\n",
    "Additional tasks: \n",
    "* Normalize CompTotal column (all should be 'yearly')\n",
    "* Fix Gender column to include only 3 categories\n",
    "* Verify WorkLoc, no missing values are allowed\n",
    "\n",
    "**Skills demonstrated:**\n",
    "\n",
    "* Python (Pandas)\n",
    "* Data pre-processing\n",
    "* Clean coding\n",
    "\n",
    "**Performed by:** Jarek Krzysztofik"
   ]
  },
  {
   "cell_type": "code",
   "execution_count": 1,
   "metadata": {},
   "outputs": [],
   "source": [
    "import pandas as pd"
   ]
  },
  {
   "cell_type": "markdown",
   "metadata": {},
   "source": [
    "## 1. Load"
   ]
  },
  {
   "cell_type": "code",
   "execution_count": 2,
   "metadata": {},
   "outputs": [],
   "source": [
    "df = pd.read_csv(r'C:\\Users\\krzys\\Desktop\\Python\\IBM DA Capstone Project_Portfolio version\\1. Raw_data\\survey_data.csv')"
   ]
  },
  {
   "cell_type": "code",
   "execution_count": 3,
   "metadata": {},
   "outputs": [
    {
     "data": {
      "text/plain": [
       "Index(['Respondent', 'MainBranch', 'Hobbyist', 'OpenSourcer', 'OpenSource',\n",
       "       'Employment', 'Country', 'Student', 'EdLevel', 'UndergradMajor',\n",
       "       'EduOther', 'OrgSize', 'DevType', 'YearsCode', 'Age1stCode',\n",
       "       'YearsCodePro', 'CareerSat', 'JobSat', 'MgrIdiot', 'MgrMoney',\n",
       "       'MgrWant', 'JobSeek', 'LastHireDate', 'LastInt', 'FizzBuzz',\n",
       "       'JobFactors', 'ResumeUpdate', 'CurrencySymbol', 'CurrencyDesc',\n",
       "       'CompTotal', 'CompFreq', 'ConvertedComp', 'WorkWeekHrs', 'WorkPlan',\n",
       "       'WorkChallenge', 'WorkRemote', 'WorkLoc', 'ImpSyn', 'CodeRev',\n",
       "       'CodeRevHrs', 'UnitTests', 'PurchaseHow', 'PurchaseWhat',\n",
       "       'LanguageWorkedWith', 'LanguageDesireNextYear', 'DatabaseWorkedWith',\n",
       "       'DatabaseDesireNextYear', 'PlatformWorkedWith',\n",
       "       'PlatformDesireNextYear', 'WebFrameWorkedWith',\n",
       "       'WebFrameDesireNextYear', 'MiscTechWorkedWith',\n",
       "       'MiscTechDesireNextYear', 'DevEnviron', 'OpSys', 'Containers',\n",
       "       'BlockchainOrg', 'BlockchainIs', 'BetterLife', 'ITperson', 'OffOn',\n",
       "       'SocialMedia', 'Extraversion', 'ScreenName', 'SOVisit1st',\n",
       "       'SOVisitFreq', 'SOVisitTo', 'SOFindAnswer', 'SOTimeSaved',\n",
       "       'SOHowMuchTime', 'SOAccount', 'SOPartFreq', 'SOJobs', 'EntTeams',\n",
       "       'SOComm', 'WelcomeChange', 'SONewContent', 'Age', 'Gender', 'Trans',\n",
       "       'Sexuality', 'Ethnicity', 'Dependents', 'SurveyLength', 'SurveyEase'],\n",
       "      dtype='object')"
      ]
     },
     "execution_count": 3,
     "metadata": {},
     "output_type": "execute_result"
    }
   ],
   "source": [
    "df.columns"
   ]
  },
  {
   "cell_type": "markdown",
   "metadata": {},
   "source": [
    "## 2. Transform"
   ]
  },
  {
   "cell_type": "code",
   "execution_count": 4,
   "metadata": {},
   "outputs": [],
   "source": [
    "cols_need = ['Respondent', \n",
    "             'MainBranch', \n",
    "             'Country', \n",
    "             'EdLevel', \n",
    "             'UndergradMajor', \n",
    "             'DevType', \n",
    "             'YearsCode', \n",
    "             'CompFreq',\n",
    "             'CompTotal', \n",
    "             'ConvertedComp',\n",
    "             'WorkWeekHrs',\n",
    "             'WorkLoc', \n",
    "             'CodeRevHrs', \n",
    "             'LanguageWorkedWith', \n",
    "             'LanguageDesireNextYear', \n",
    "             'DatabaseWorkedWith', \n",
    "             'DatabaseDesireNextYear', \n",
    "             'PlatformWorkedWith', \n",
    "             'PlatformDesireNextYear', \n",
    "             'WebFrameWorkedWith', \n",
    "             'WebFrameDesireNextYear', \n",
    "             'OpSys', \n",
    "             'Age', \n",
    "             'Gender']"
   ]
  },
  {
   "cell_type": "code",
   "execution_count": 5,
   "metadata": {},
   "outputs": [
    {
     "name": "stdout",
     "output_type": "stream",
     "text": [
      "<class 'pandas.core.frame.DataFrame'>\n",
      "RangeIndex: 11552 entries, 0 to 11551\n",
      "Data columns (total 24 columns):\n",
      " #   Column                  Non-Null Count  Dtype  \n",
      "---  ------                  --------------  -----  \n",
      " 0   Respondent              11552 non-null  int64  \n",
      " 1   MainBranch              11552 non-null  object \n",
      " 2   Country                 11552 non-null  object \n",
      " 3   EdLevel                 11436 non-null  object \n",
      " 4   UndergradMajor          10812 non-null  object \n",
      " 5   DevType                 11485 non-null  object \n",
      " 6   YearsCode               11543 non-null  object \n",
      " 7   CompTotal               10737 non-null  float64\n",
      " 8   CompFreq                11346 non-null  object \n",
      " 9   ConvertedComp           10730 non-null  float64\n",
      " 10  WorkWeekHrs             11427 non-null  float64\n",
      " 11  WorkLoc                 11520 non-null  object \n",
      " 12  CodeRevHrs              9083 non-null   float64\n",
      " 13  LanguageWorkedWith      11541 non-null  object \n",
      " 14  LanguageDesireNextYear  11415 non-null  object \n",
      " 15  DatabaseWorkedWith      11096 non-null  object \n",
      " 16  DatabaseDesireNextYear  10497 non-null  object \n",
      " 17  PlatformWorkedWith      11130 non-null  object \n",
      " 18  PlatformDesireNextYear  10991 non-null  object \n",
      " 19  WebFrameWorkedWith      10139 non-null  object \n",
      " 20  WebFrameDesireNextYear  9918 non-null   object \n",
      " 21  OpSys                   11518 non-null  object \n",
      " 22  Age                     11255 non-null  float64\n",
      " 23  Gender                  11477 non-null  object \n",
      "dtypes: float64(5), int64(1), object(18)\n",
      "memory usage: 2.1+ MB\n"
     ]
    }
   ],
   "source": [
    "#Drop columns that are not needed\n",
    "\n",
    "for column in df:\n",
    "    if column not in cols_need:\n",
    "        df.drop(labels=column, axis=1, inplace=True)\n",
    "\n",
    "df.info()"
   ]
  },
  {
   "cell_type": "markdown",
   "metadata": {},
   "source": [
    "## 3. Clean"
   ]
  },
  {
   "cell_type": "markdown",
   "metadata": {},
   "source": [
    "**3.1. Fix data types**"
   ]
  },
  {
   "cell_type": "code",
   "execution_count": 6,
   "metadata": {},
   "outputs": [],
   "source": [
    "#YearsCode needs to be changed into numeric type.\n",
    "#To do so, I will first change all 'Less than one year' values to 0.5.\n",
    "\n",
    "indices = df.index[df['YearsCode'] == 'Less than 1 year'].tolist()\n",
    "\n",
    "for index in indices:\n",
    "    df.loc[index, 'YearsCode'] = 0.5"
   ]
  },
  {
   "cell_type": "code",
   "execution_count": 7,
   "metadata": {},
   "outputs": [],
   "source": [
    "df['YearsCode'] = pd.to_numeric(df['YearsCode'])"
   ]
  },
  {
   "cell_type": "code",
   "execution_count": 8,
   "metadata": {},
   "outputs": [
    {
     "name": "stdout",
     "output_type": "stream",
     "text": [
      "<class 'pandas.core.series.Series'>\n",
      "RangeIndex: 11552 entries, 0 to 11551\n",
      "Series name: YearsCode\n",
      "Non-Null Count  Dtype  \n",
      "--------------  -----  \n",
      "11543 non-null  float64\n",
      "dtypes: float64(1)\n",
      "memory usage: 90.4 KB\n"
     ]
    }
   ],
   "source": [
    "df.YearsCode.info()"
   ]
  },
  {
   "cell_type": "markdown",
   "metadata": {},
   "source": [
    "**3.2. Remove duplicates**"
   ]
  },
  {
   "cell_type": "code",
   "execution_count": 9,
   "metadata": {},
   "outputs": [
    {
     "data": {
      "text/plain": [
       "154"
      ]
     },
     "execution_count": 9,
     "metadata": {},
     "output_type": "execute_result"
    }
   ],
   "source": [
    "#Check duplicates\n",
    "df.duplicated().sum()"
   ]
  },
  {
   "cell_type": "code",
   "execution_count": 10,
   "metadata": {},
   "outputs": [
    {
     "data": {
      "text/plain": [
       "0"
      ]
     },
     "execution_count": 10,
     "metadata": {},
     "output_type": "execute_result"
    }
   ],
   "source": [
    "#Drop duplicates\n",
    "df.drop_duplicates(inplace=True)\n",
    "df.duplicated().sum()"
   ]
  },
  {
   "cell_type": "markdown",
   "metadata": {},
   "source": [
    "**3.3. Identify missing values**"
   ]
  },
  {
   "cell_type": "code",
   "execution_count": 11,
   "metadata": {},
   "outputs": [
    {
     "name": "stdout",
     "output_type": "stream",
     "text": [
      "Respondent                   0\n",
      "MainBranch                   0\n",
      "Country                      0\n",
      "EdLevel                    112\n",
      "UndergradMajor             737\n",
      "DevType                     65\n",
      "YearsCode                    9\n",
      "CompTotal                  809\n",
      "CompFreq                   206\n",
      "ConvertedComp              816\n",
      "WorkWeekHrs                122\n",
      "WorkLoc                     32\n",
      "CodeRevHrs                2426\n",
      "LanguageWorkedWith          11\n",
      "LanguageDesireNextYear     134\n",
      "DatabaseWorkedWith         453\n",
      "DatabaseDesireNextYear    1042\n",
      "PlatformWorkedWith         411\n",
      "PlatformDesireNextYear     544\n",
      "WebFrameWorkedWith        1393\n",
      "WebFrameDesireNextYear    1617\n",
      "OpSys                       34\n",
      "Age                        287\n",
      "Gender                      73\n",
      "dtype: int64\n",
      "Total missing values: 11333\n",
      "Size: (11398, 24)\n"
     ]
    }
   ],
   "source": [
    "print(df.isna().sum())\n",
    "print('Total missing values:', df.isna().sum().sum())\n",
    "print('Size:', df.shape)"
   ]
  },
  {
   "cell_type": "code",
   "execution_count": 12,
   "metadata": {},
   "outputs": [
    {
     "name": "stdout",
     "output_type": "stream",
     "text": [
      "YearsCode \n",
      " \t Missing values: 9 \n",
      " \t % of total: 0.08 \n",
      " \t Significant: No\n",
      "ConvertedComp \n",
      " \t Missing values: 816 \n",
      " \t % of total: 7.16 \n",
      " \t Significant: Yes\n",
      "WorkLoc \n",
      " \t Missing values: 32 \n",
      " \t % of total: 0.28 \n",
      " \t Significant: No\n",
      "Age \n",
      " \t Missing values: 287 \n",
      " \t % of total: 2.52 \n",
      " \t Significant: No\n",
      "Gender \n",
      " \t Missing values: 73 \n",
      " \t % of total: 0.64 \n",
      " \t Significant: No\n"
     ]
    }
   ],
   "source": [
    "#Columns where missing values are potentially problematic\n",
    "#'WorkLoc' included as requested\n",
    "cols_miss_problem = ['YearsCode', 'ConvertedComp', 'WorkLoc', 'Age', 'Gender']\n",
    "\n",
    "def check_missings():\n",
    "    for column in df:\n",
    "        if column in cols_miss_problem:\n",
    "        \n",
    "            missings = df[column].isna().sum()\n",
    "            missings_as_percent = (missings/df.shape[0])*100\n",
    "            significance = 'Yes' if missings_as_percent >= 5 else 'No'\n",
    "            # Significance assumed as 5%\n",
    "\n",
    "            print(column,\n",
    "                '\\n \\t Missing values:', \n",
    "                missings, \n",
    "                '\\n \\t', '% of total:', round(missings_as_percent,2),\n",
    "                '\\n \\t', 'Significant:', significance)\n",
    "\n",
    "check_missings()                "
   ]
  },
  {
   "cell_type": "markdown",
   "metadata": {},
   "source": [
    "**3.4. Impute or remove missing values**"
   ]
  },
  {
   "cell_type": "markdown",
   "metadata": {},
   "source": [
    "| Variable | Action |\n",
    "| --- | --- |\n",
    "| YearsCode | impute, average |\n",
    "| ConvertedComp | impute, median |\n",
    "| WorkLoc | impute, most frequent |\n",
    "| Age | impute, average |\n",
    "| Gender | drop |\n",
    "\n",
    "Neither filling missing values as 'Man' (most frequent) nor assuming those as other than 'Man' or 'Woman' seems appropriate. Therefore all rows with missing Gender information are excluded (0.64% of all records)."
   ]
  },
  {
   "cell_type": "code",
   "execution_count": 13,
   "metadata": {},
   "outputs": [],
   "source": [
    "#YearsCode, Age\n",
    "cols_to_interpolate = ['YearsCode', 'Age']\n",
    "\n",
    "for col in cols_to_interpolate:\n",
    "    df[col].interpolate(method='linear', inplace=True)"
   ]
  },
  {
   "cell_type": "code",
   "execution_count": 14,
   "metadata": {},
   "outputs": [],
   "source": [
    "#ConvertedComp\n",
    "df['ConvertedComp'] = df['ConvertedComp'].fillna(df['ConvertedComp'].median())"
   ]
  },
  {
   "cell_type": "code",
   "execution_count": 15,
   "metadata": {},
   "outputs": [
    {
     "data": {
      "text/plain": [
       "'Office'"
      ]
     },
     "execution_count": 15,
     "metadata": {},
     "output_type": "execute_result"
    }
   ],
   "source": [
    "#WorkLoc\n",
    "most_freq_val = df['WorkLoc'].value_counts().idxmax()\n",
    "most_freq_val"
   ]
  },
  {
   "cell_type": "code",
   "execution_count": 16,
   "metadata": {},
   "outputs": [],
   "source": [
    "df['WorkLoc'].fillna(value=most_freq_val, inplace=True)"
   ]
  },
  {
   "cell_type": "code",
   "execution_count": 17,
   "metadata": {},
   "outputs": [
    {
     "data": {
      "text/plain": [
       "Non-binary, genderqueer, or gender non-conforming              63\n",
       "Man;Non-binary, genderqueer, or gender non-conforming          26\n",
       "Woman;Non-binary, genderqueer, or gender non-conforming        14\n",
       "Woman;Man                                                       9\n",
       "Woman;Man;Non-binary, genderqueer, or gender non-conforming     2\n",
       "Name: Gender, dtype: int64"
      ]
     },
     "execution_count": 17,
     "metadata": {},
     "output_type": "execute_result"
    }
   ],
   "source": [
    "#Gender\n",
    "df.Gender[(df.Gender != 'Man') & (df.Gender != 'Woman')].value_counts()"
   ]
  },
  {
   "cell_type": "code",
   "execution_count": 18,
   "metadata": {},
   "outputs": [],
   "source": [
    "df.dropna(subset=[\"Gender\"], inplace=True)"
   ]
  },
  {
   "cell_type": "code",
   "execution_count": 19,
   "metadata": {},
   "outputs": [
    {
     "name": "stdout",
     "output_type": "stream",
     "text": [
      "YearsCode \n",
      " \t Missing values: 0 \n",
      " \t % of total: 0.0 \n",
      " \t Significant: No\n",
      "ConvertedComp \n",
      " \t Missing values: 0 \n",
      " \t % of total: 0.0 \n",
      " \t Significant: No\n",
      "WorkLoc \n",
      " \t Missing values: 0 \n",
      " \t % of total: 0.0 \n",
      " \t Significant: No\n",
      "Age \n",
      " \t Missing values: 0 \n",
      " \t % of total: 0.0 \n",
      " \t Significant: No\n",
      "Gender \n",
      " \t Missing values: 0 \n",
      " \t % of total: 0.0 \n",
      " \t Significant: No\n"
     ]
    }
   ],
   "source": [
    "check_missings()"
   ]
  },
  {
   "cell_type": "markdown",
   "metadata": {},
   "source": [
    "## 4. Normalize data"
   ]
  },
  {
   "cell_type": "markdown",
   "metadata": {},
   "source": [
    "**4.1. CompFreq**"
   ]
  },
  {
   "cell_type": "code",
   "execution_count": 20,
   "metadata": {},
   "outputs": [
    {
     "data": {
      "text/plain": [
       "Yearly     6036\n",
       "Monthly    4753\n",
       "Weekly      330\n",
       "Name: CompFreq, dtype: int64"
      ]
     },
     "execution_count": 20,
     "metadata": {},
     "output_type": "execute_result"
    }
   ],
   "source": [
    "df.CompFreq.value_counts()"
   ]
  },
  {
   "cell_type": "code",
   "execution_count": 21,
   "metadata": {},
   "outputs": [
    {
     "data": {
      "text/plain": [
       "0     61000.0\n",
       "1    138000.0\n",
       "2     90000.0\n",
       "3    348000.0\n",
       "4     90000.0\n",
       "Name: NormAnnualComp, dtype: float64"
      ]
     },
     "execution_count": 21,
     "metadata": {},
     "output_type": "execute_result"
    }
   ],
   "source": [
    "CompYear = []\n",
    "\n",
    "def comp_normalization():\n",
    "\n",
    "    for x, y in zip(df['CompFreq'], df['CompTotal']):\n",
    "        if x == 'Weekly':\n",
    "            CompYear.append(y*52)\n",
    "        elif x == 'Monthly':\n",
    "            CompYear.append(y*12)\n",
    "        else:\n",
    "            CompYear.append(y)\n",
    "\n",
    "comp_normalization()\n",
    "\n",
    "df['NormAnnualComp'] = CompYear\n",
    "\n",
    "df['NormAnnualComp'].head(5)"
   ]
  },
  {
   "cell_type": "markdown",
   "metadata": {},
   "source": [
    "**4.2. Gender**"
   ]
  },
  {
   "cell_type": "markdown",
   "metadata": {},
   "source": [
    "All repondents' answers are respected, however for the purpose of this analysis the level of precision as: 'Man', 'Woman', 'Non-conforming' is sufficient."
   ]
  },
  {
   "cell_type": "code",
   "execution_count": 22,
   "metadata": {},
   "outputs": [
    {
     "data": {
      "text/plain": [
       "Man                                                            10480\n",
       "Woman                                                            731\n",
       "Non-binary, genderqueer, or gender non-conforming                 63\n",
       "Man;Non-binary, genderqueer, or gender non-conforming             26\n",
       "Woman;Non-binary, genderqueer, or gender non-conforming           14\n",
       "Woman;Man                                                          9\n",
       "Woman;Man;Non-binary, genderqueer, or gender non-conforming        2\n",
       "Name: Gender, dtype: int64"
      ]
     },
     "execution_count": 22,
     "metadata": {},
     "output_type": "execute_result"
    }
   ],
   "source": [
    "df.Gender.value_counts()"
   ]
  },
  {
   "cell_type": "code",
   "execution_count": 23,
   "metadata": {},
   "outputs": [],
   "source": [
    "nonconforming_indices = df.index[(df.Gender != 'Man') & (df.Gender != 'Woman')].tolist()\n",
    "\n",
    "for index in nonconforming_indices:\n",
    "    df.loc[index, 'Gender'] = 'Non-conforming'"
   ]
  },
  {
   "cell_type": "code",
   "execution_count": 24,
   "metadata": {},
   "outputs": [
    {
     "data": {
      "text/plain": [
       "Man               10480\n",
       "Woman               731\n",
       "Non-conforming      114\n",
       "Name: Gender, dtype: int64"
      ]
     },
     "execution_count": 24,
     "metadata": {},
     "output_type": "execute_result"
    }
   ],
   "source": [
    "df.Gender.value_counts()"
   ]
  },
  {
   "cell_type": "markdown",
   "metadata": {},
   "source": [
    "## 5. Additional cleaning"
   ]
  },
  {
   "cell_type": "markdown",
   "metadata": {},
   "source": [
    "I left WorkWeekHrs column in df because it allows to easy identify incorrect values. Now I am assuming 140h per week as a safe margin and dropping every record above due to the risk that the answer set is not reliable.\n",
    "\n",
    "**Note**: WorkWeekHrs variable is defined in the survey's documentation as *On average, how many hours per week do you work?*"
   ]
  },
  {
   "cell_type": "code",
   "execution_count": 25,
   "metadata": {},
   "outputs": [
    {
     "data": {
      "text/plain": [
       "375.0     27\n",
       "160.0     20\n",
       "168.0     19\n",
       "385.0      8\n",
       "150.0      4\n",
       "475.0      1\n",
       "1012.0     1\n",
       "355.0      1\n",
       "145.0      1\n",
       "425.0      1\n",
       "165.0      1\n",
       "Name: WorkWeekHrs, dtype: int64"
      ]
     },
     "execution_count": 25,
     "metadata": {},
     "output_type": "execute_result"
    }
   ],
   "source": [
    "above140 = df[df['WorkWeekHrs'] > 140]\n",
    "above140.WorkWeekHrs.value_counts()"
   ]
  },
  {
   "cell_type": "code",
   "execution_count": 26,
   "metadata": {},
   "outputs": [
    {
     "data": {
      "text/plain": [
       "84"
      ]
     },
     "execution_count": 26,
     "metadata": {},
     "output_type": "execute_result"
    }
   ],
   "source": [
    "above140.WorkWeekHrs.count()"
   ]
  },
  {
   "cell_type": "code",
   "execution_count": 27,
   "metadata": {},
   "outputs": [
    {
     "data": {
      "text/plain": [
       "11325"
      ]
     },
     "execution_count": 27,
     "metadata": {},
     "output_type": "execute_result"
    }
   ],
   "source": [
    "#Before dropping\n",
    "df.Respondent.count()"
   ]
  },
  {
   "cell_type": "code",
   "execution_count": 28,
   "metadata": {},
   "outputs": [
    {
     "data": {
      "text/plain": [
       "11241"
      ]
     },
     "execution_count": 28,
     "metadata": {},
     "output_type": "execute_result"
    }
   ],
   "source": [
    "df.drop(df.loc[df['WorkWeekHrs'] > 140].index, inplace=True)\n",
    "\n",
    "#After dropping\n",
    "df.Respondent.count()"
   ]
  },
  {
   "cell_type": "markdown",
   "metadata": {},
   "source": [
    "## 6. Check and save"
   ]
  },
  {
   "cell_type": "code",
   "execution_count": 29,
   "metadata": {},
   "outputs": [
    {
     "name": "stdout",
     "output_type": "stream",
     "text": [
      "<class 'pandas.core.frame.DataFrame'>\n",
      "Int64Index: 11241 entries, 0 to 11551\n",
      "Data columns (total 25 columns):\n",
      " #   Column                  Non-Null Count  Dtype  \n",
      "---  ------                  --------------  -----  \n",
      " 0   Respondent              11241 non-null  int64  \n",
      " 1   MainBranch              11241 non-null  object \n",
      " 2   Country                 11241 non-null  object \n",
      " 3   EdLevel                 11131 non-null  object \n",
      " 4   UndergradMajor          10523 non-null  object \n",
      " 5   DevType                 11176 non-null  object \n",
      " 6   YearsCode               11241 non-null  float64\n",
      " 7   CompTotal               10442 non-null  float64\n",
      " 8   CompFreq                11036 non-null  object \n",
      " 9   ConvertedComp           11241 non-null  float64\n",
      " 10  WorkWeekHrs             11119 non-null  float64\n",
      " 11  WorkLoc                 11241 non-null  object \n",
      " 12  CodeRevHrs              8840 non-null   float64\n",
      " 13  LanguageWorkedWith      11230 non-null  object \n",
      " 14  LanguageDesireNextYear  11108 non-null  object \n",
      " 15  DatabaseWorkedWith      10792 non-null  object \n",
      " 16  DatabaseDesireNextYear  10215 non-null  object \n",
      " 17  PlatformWorkedWith      10836 non-null  object \n",
      " 18  PlatformDesireNextYear  10704 non-null  object \n",
      " 19  WebFrameWorkedWith      9865 non-null   object \n",
      " 20  WebFrameDesireNextYear  9645 non-null   object \n",
      " 21  OpSys                   11208 non-null  object \n",
      " 22  Age                     11241 non-null  float64\n",
      " 23  Gender                  11241 non-null  object \n",
      " 24  NormAnnualComp          10442 non-null  float64\n",
      "dtypes: float64(7), int64(1), object(17)\n",
      "memory usage: 2.2+ MB\n"
     ]
    }
   ],
   "source": [
    "df.info(verbose=True, show_counts=True)"
   ]
  },
  {
   "cell_type": "code",
   "execution_count": 31,
   "metadata": {},
   "outputs": [],
   "source": [
    "df.to_csv(r'C:\\Users\\krzys\\Desktop\\Python\\IBM DA Capstone Project_Portfolio version\\2. Data_preparation\\survey_data_cleaned.csv')"
   ]
  }
 ],
 "metadata": {
  "kernelspec": {
   "display_name": "Python 3.10.5 ('venv': venv)",
   "language": "python",
   "name": "python3"
  },
  "language_info": {
   "codemirror_mode": {
    "name": "ipython",
    "version": 3
   },
   "file_extension": ".py",
   "mimetype": "text/x-python",
   "name": "python",
   "nbconvert_exporter": "python",
   "pygments_lexer": "ipython3",
   "version": "3.10.5"
  },
  "orig_nbformat": 4,
  "vscode": {
   "interpreter": {
    "hash": "16ee1db4c058d5c272f4c883d201aeaa1339736584614d18f3fd0d81abffbc97"
   }
  }
 },
 "nbformat": 4,
 "nbformat_minor": 2
}
